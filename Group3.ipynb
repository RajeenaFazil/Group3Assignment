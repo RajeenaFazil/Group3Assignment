{
 "cells": [
  {
   "cell_type": "markdown",
   "metadata": {},
   "source": [
    "## 1. Complete the following code to find the area of an equilateral triangle. Output should be as displayed"
   ]
  },
  {
   "cell_type": "code",
   "execution_count": 2,
   "metadata": {},
   "outputs": [
    {
     "name": "stdout",
     "output_type": "stream",
     "text": [
      "Enter the side of the equilateral triangle: 3\n",
      "Area =  3.90\n"
     ]
    }
   ],
   "source": [
    "#Area of Equilateral Triangle\n",
    "import math\n",
    "side = float(input(\"Enter the side of the equilateral triangle: \"))\n",
    "area = ((math.sqrt(3))/4)*pow(side,2)\n",
    "print(\"Area = \",\"%.2f\"%area)\n"
   ]
  },
  {
   "cell_type": "markdown",
   "metadata": {},
   "source": [
    "## 2. Write a program to count the number of each characters in a string"
   ]
  },
  {
   "cell_type": "code",
   "execution_count": 2,
   "metadata": {},
   "outputs": [
    {
     "name": "stdout",
     "output_type": "stream",
     "text": [
      "Enter the String : malayalam\n",
      "The character count in the String  malayalam is  {'m': 2, 'a': 4, 'l': 2, 'y': 1}\n"
     ]
    }
   ],
   "source": [
    "#Count characters in a string\n",
    "freq={}\n",
    "char=str(input(\"Enter the String : \"))                #Hiii from Group3\n",
    "for i in char:                                        # Rajeena p k\n",
    "    if i in freq:                                     # Deepak \n",
    "        freq[i]+=1                                    # Nitheesh\n",
    "    else:                                             # Sivsankar\n",
    "      freq[i]=1                                       # Anu S Nair\n",
    "    \n",
    "print(\"The character count in the String \",char,\"is \",str(freq))\n"
   ]
  },
  {
   "cell_type": "markdown",
   "metadata": {},
   "source": [
    "## 3. Write a program to find the area and perimeter of a rectangle using functions"
   ]
  },
  {
   "cell_type": "code",
   "execution_count": 3,
   "metadata": {},
   "outputs": [
    {
     "name": "stdout",
     "output_type": "stream",
     "text": [
      "Enter The Length of the Rectangle : 5\n",
      "Enter Breadth of The Rectangle : 3\n",
      "Area of The Rectangle is :  15.0\n",
      "Perimeter Of The Rectangle is :  16.0\n"
     ]
    }
   ],
   "source": [
    "#Area and Perimeter of Rectangle using Function\n",
    "\n",
    "#Function for Finding Area of Rectangle\n",
    "def Rect_Area(l,b):\n",
    "    return(l*b)\n",
    "\n",
    "#Function for finding perimeter of Rectangle\n",
    "def Rect_Perimeter(l,b):\n",
    "    return(2*(l+b))\n",
    "\n",
    "length=float(input(\"Enter The Length of the Rectangle : \"))\n",
    "breadth=float(input(\"Enter Breadth of The Rectangle : \"))\n",
    "\n",
    "print(\"Area of The Rectangle is : \",Rect_Area(length,breadth))\n",
    "print(\"Perimeter Of The Rectangle is : \",Rect_Perimeter(length,breadth))\n"
   ]
  },
  {
   "cell_type": "markdown",
   "metadata": {},
   "source": [
    "## 4. Write a program to print the fibonacci series till a specified number"
   ]
  },
  {
   "cell_type": "code",
   "execution_count": 4,
   "metadata": {},
   "outputs": [
    {
     "name": "stdout",
     "output_type": "stream",
     "text": [
      "Enter the series limit : 10\n",
      "Fibinacci series : \n",
      "0 1 1 2 3 5 8 13 21 34 "
     ]
    }
   ],
   "source": [
    "# Enter number of terms needed                   \n",
    "limit=int(input(\"Enter the series limit : \"))\n",
    "first=0                                         #first element of series\n",
    "second=1                                         #second element of series\n",
    "if limit<=0:\n",
    "    print(\"The requested series is\",first)\n",
    "else:\n",
    "    print(\"Fibinacci series : \")\n",
    "    print(first,second,end=\" \")\n",
    "    for x in range(2,limit):\n",
    "        next=first+second                           \n",
    "        print(next,end=\" \")\n",
    "        first=second\n",
    "        second=next"
   ]
  },
  {
   "cell_type": "markdown",
   "metadata": {},
   "source": [
    "## 5. Complete the following code to find the minimum of 3 number using conditional statements. Output should be as displayed"
   ]
  },
  {
   "cell_type": "code",
   "execution_count": 3,
   "metadata": {},
   "outputs": [
    {
     "name": "stdout",
     "output_type": "stream",
     "text": [
      "Enter three numbers followed by  : 22 21 23\n",
      "First number : 22\n",
      "Second number : 21\n",
      "Third number : 23\n",
      "21  is smallest\n"
     ]
    }
   ],
   "source": [
    "a,b,c = input(\"Enter three numbers followed by  : \").split()\n",
    "\n",
    "print(\"First number :\",a)\n",
    "print(\"Second number :\",b)\n",
    "print(\"Third number :\",c)\n",
    "if a==b==c:\n",
    "    print(\"Entered numbers are equal!!!\")\n",
    "elif a < b and c:\n",
    "    print(a,\" is smallest\")\n",
    "elif b < c:\n",
    "    print(b,\" is smallest\")\n",
    "else :\n",
    "    print(c,\" is smallest\")"
   ]
  },
  {
   "cell_type": "markdown",
   "metadata": {},
   "source": [
    "## 6. Write a program to print star pyramind. The number of rows should be taken as input from the user"
   ]
  },
  {
   "cell_type": "code",
   "execution_count": 16,
   "metadata": {},
   "outputs": [
    {
     "name": "stdout",
     "output_type": "stream",
     "text": [
      "Entervthe number of rows of the pyramid5\n",
      "Full Pyramid Pattern of Stars (*): \n",
      "      * \n",
      "     * * \n",
      "    * * * \n",
      "   * * * * \n",
      "  * * * * * \n"
     ]
    }
   ],
   "source": [
    "rows=int(input(\"Entervthe number of rows of the pyramid\"))\n",
    "print(\"Full Pyramid Pattern of Stars (*): \")\n",
    "for i in range(rows):\n",
    "    for s in range(-6, -i):\n",
    "        print(\" \", end=\"\")\n",
    "    for j in range(i+1):\n",
    "        print(\"* \", end=\"\")\n",
    "    print()"
   ]
  },
  {
   "cell_type": "markdown",
   "metadata": {},
   "source": [
    "## 7. Complete the following code to convert hour into seconds. Output should be as displayed"
   ]
  },
  {
   "cell_type": "code",
   "execution_count": 20,
   "metadata": {},
   "outputs": [
    {
     "name": "stdout",
     "output_type": "stream",
     "text": [
      "Enter the time in hour value  : 8\n",
      "8  Hour is equal to 28800  Seconds\n"
     ]
    }
   ],
   "source": [
    "def to_seconds(t):\n",
    "    t=t*60*60\n",
    "    return t\n",
    "time_in_hours = int(input(\"Enter the time in hour value  : \" ))\n",
    "print(time_in_hours ,\" Hour is equal to\" ,to_seconds(time_in_hours) ,\" Seconds\")"
   ]
  },
  {
   "cell_type": "markdown",
   "metadata": {},
   "source": [
    "## 8. Write a program to print multiplication table as below"
   ]
  },
  {
   "cell_type": "code",
   "execution_count": 26,
   "metadata": {},
   "outputs": [
    {
     "name": "stdout",
     "output_type": "stream",
     "text": [
      "Enter a number to find the multiplication table : 5\n",
      "5 * 1 = 5\n",
      "5 * 2 = 10\n",
      "5 * 3 = 15\n",
      "5 * 4 = 20\n",
      "5 * 5 = 25\n",
      "5 * 6 = 30\n",
      "5 * 7 = 35\n",
      "5 * 8 = 40\n",
      "5 * 9 = 45\n"
     ]
    }
   ],
   "source": [
    "number=int(input(\"Enter a number to find the multiplication table : \"))\n",
    "i=1\n",
    "for i in range(1,10):\n",
    "    print(str(number)+ \" * \" +str(i)+ \" = \" +str(number*i))\n",
    "  "
   ]
  },
  {
   "cell_type": "markdown",
   "metadata": {},
   "source": [
    "## 9. Write a program to take your 5 favorite food as list and print each as 'I like Biriyani'"
   ]
  },
  {
   "cell_type": "code",
   "execution_count": 40,
   "metadata": {},
   "outputs": [
    {
     "name": "stdout",
     "output_type": "stream",
     "text": [
      "I like  Biriyani\n",
      "I like  Payasam\n",
      "I like  cakes\n",
      "I like  Burger\n",
      "I like  chutney\n"
     ]
    }
   ],
   "source": [
    "favorite_foods = ['Biriyani', 'Payasam', 'cakes','Burger','chutney']\n",
    "i = 0\n",
    "while i < len(favorite_foods):\n",
    "    print(\"I like \",favorite_foods[i])\n",
    "    i += 1\n",
    "    "
   ]
  },
  {
   "cell_type": "code",
   "execution_count": null,
   "metadata": {},
   "outputs": [],
   "source": []
  }
 ],
 "metadata": {
  "kernelspec": {
   "display_name": "Python 3",
   "language": "python",
   "name": "python3"
  },
  "language_info": {
   "codemirror_mode": {
    "name": "ipython",
    "version": 3
   },
   "file_extension": ".py",
   "mimetype": "text/x-python",
   "name": "python",
   "nbconvert_exporter": "python",
   "pygments_lexer": "ipython3",
   "version": "3.8.8"
  }
 },
 "nbformat": 4,
 "nbformat_minor": 4
}
